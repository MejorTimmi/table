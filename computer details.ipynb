{
 "cells": [
  {
   "cell_type": "code",
   "execution_count": 1,
   "metadata": {},
   "outputs": [
    {
     "name": "stdout",
     "output_type": "stream",
     "text": [
      "I need need information about your Computer\n",
      "Enter model of Computer: \n",
      "HP pavilion\n",
      "Enter the production date: \n",
      "2016\n",
      "Enter memory capacity: \n",
      "500gb\n",
      "You use a/an HP pavilion\n",
      "This computer was produced on the 2016\n",
      "The capacity is 500gb\n"
     ]
    }
   ],
   "source": [
    "class Computer:\n",
    "    def __init__(self, model, prodDate, memory):\n",
    "        self.model = model\n",
    "        self.prodDate = prodDate\n",
    "        self.memory = memory\n",
    "\n",
    "\n",
    "    def getspecs(self):\n",
    "        print('I need need information about your Computer')\n",
    "        self.model = input('Enter model of Computer: \\n')\n",
    "        self.prodDate = input('Enter the production date: \\n')\n",
    "        self.memory = input('Enter memory capacity: \\n')\n",
    "\n",
    "\n",
    "    def displayspecs(self):\n",
    "        print('You use a/an ' +self.model)\n",
    "        print('This computer was produced on the ' +self.prodDate)\n",
    "        print('The capacity is ' +self.memory)\n",
    "\n",
    "\n",
    "data1 = Computer('model', 'prodDate', 'memory')\n",
    "data1.getspecs()\n",
    "data1.displayspecs()\n"
   ]
  },
  {
   "cell_type": "code",
   "execution_count": null,
   "metadata": {},
   "outputs": [],
   "source": []
  }
 ],
 "metadata": {
  "kernelspec": {
   "display_name": "Python 3",
   "language": "python",
   "name": "python3"
  },
  "language_info": {
   "codemirror_mode": {
    "name": "ipython",
    "version": 3
   },
   "file_extension": ".py",
   "mimetype": "text/x-python",
   "name": "python",
   "nbconvert_exporter": "python",
   "pygments_lexer": "ipython3",
   "version": "3.7.6"
  }
 },
 "nbformat": 4,
 "nbformat_minor": 4
}
